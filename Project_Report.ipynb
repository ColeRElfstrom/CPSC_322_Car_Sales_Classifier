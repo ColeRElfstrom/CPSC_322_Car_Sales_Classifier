{
 "cells": [
  {
   "cell_type": "code",
   "execution_count": 1,
   "metadata": {},
   "outputs": [],
   "source": [
    "# some useful mysklearn package import statements and reloads\n",
    "import importlib\n",
    "\n",
    "import mysklearn.myutils\n",
    "importlib.reload(mysklearn.myutils)\n",
    "import myutils\n",
    "import mysklearn.mypytable\n",
    "importlib.reload(mysklearn.mypytable)\n",
    "from mysklearn.mypytable import MyPyTable \n",
    "\n",
    "import mysklearn.myclassifiers\n",
    "importlib.reload(mysklearn.myclassifiers)\n",
    "from mysklearn.myclassifiers import MyKNeighborsClassifier, MyDummyClassifier, MyNaiveBayesClassifier, MyDecisionTreeClassifier\n",
    "\n",
    "import mysklearn.myevaluation\n",
    "importlib.reload(mysklearn.myevaluation)\n",
    "import mysklearn.myevaluation as myevaluation\n",
    "\n",
    "import matplotlib.pyplot as plt"
   ]
  },
  {
   "cell_type": "markdown",
   "metadata": {},
   "source": [
    "# Car Sales Classifier \n",
    "\n",
    " We are going to perform some eda and use multiple classifiers to detemermine the most likely sale price of a car based on a number of classifiers. Our train set has the following attributes:  \n",
    "\n",
    "| Attribute     | Type      | Notes                                         |\n",
    "| :---          |    :----: |:---                                           |\n",
    "| pricesold     | int       |Our Class label; will require discretization   |\n",
    "| make          | string    |                                               |\n",
    "| year          | int       |                                               |\n",
    "| title status  | string    |                                               |\n",
    "| mileage       | int       |                                               |\n",
    "| color         | string    |                                               |\n",
    "| VIN           | int       |                                               |\n",
    "| Lot           | int       |                                               |\n",
    "\n"
   ]
  },
  {
   "cell_type": "markdown",
   "metadata": {},
   "source": [
    "First we will import out dataset into a table "
   ]
  },
  {
   "cell_type": "code",
   "execution_count": 2,
   "metadata": {},
   "outputs": [],
   "source": [
    "auto_dataset = MyPyTable().load_from_file(\"used_car_sales.csv\")"
   ]
  },
  {
   "cell_type": "code",
   "execution_count": 9,
   "metadata": {},
   "outputs": [
    {
     "name": "stdout",
     "output_type": "stream",
     "text": [
      "12364.635443599025\n",
      "20.0\n",
      "241110.0\n",
      "[2105, 2746, 1917, 2196, 1797, 1850, 678, 187, 33, 26, 2]\n",
      "[ 0  1  2  3  4  5  6  7  8  9 10]\n"
     ]
    },
    {
     "data": {
      "image/png": "[encoded data removed]",
      "text/plain": [
       "<Figure size 432x288 with 1 Axes>"
      ]
     },
     "metadata": {
      "needs_background": "light"
     },
     "output_type": "display_data"
    }
   ],
   "source": [
    "importlib.reload(mysklearn.myutils)\n",
    "importlib.reload(myutils)\n",
    "\n",
    "auto_dataset = myutils.clean_data(auto_dataset)\n",
    "auto_dataset_explored = MyPyTable(column_names=[\"ID\",\"pricesold\",\"yearsold\",\"Mileage\",\"Make\",\"Model\",\"Year\",\"BodyType\",\"NumCylinders\",\"DriveType\"])\n",
    "\"ID\",\"pricesold\",\"yearsold\",\"zipcode\",\"Mileage\",\"Make\",\"Model\",\"Year\",\"Trim\",\"Engine\",\"BodyType\",\"NumCylinders\",\"DriveType\"\n",
    "auto_dataset_explored = mysklearn.myutils.create_MyPyTable_for_auto_set(auto_dataset)\n",
    "auto_dataset_explored.remove_rows_with_missing_values()\n",
    "prices = auto_dataset_explored.get_column(\"pricesold\")\n",
    "discritized_prices, ranges = myutils.discretize_sales_price(prices)\n",
    "myutils.plot_prices(discritized_prices, ranges)\n"
   ]
  },
  {
   "cell_type": "code",
   "execution_count": 11,
   "metadata": {},
   "outputs": [],
   "source": [
    "X_train = mysklearn.myutils.create_X_train_for_auto_set_without_prices(auto_dataset_explored)\n",
    "X_train, X_test, y_train, y_test = myevaluation.train_test_split(X_train, discritized_prices)"
   ]
  },
  {
   "cell_type": "code",
   "execution_count": null,
   "metadata": {},
   "outputs": [],
   "source": [
    "bayes = MyNaiveBayesClassifier()\n",
    "bayes.fit(X_train, y_train)\n",
    "bayes.predict(X_test)\n"
   ]
  }
 ],
 "metadata": {
  "kernelspec": {
   "display_name": "Python 3.9.12 ('base')",
   "language": "python",
   "name": "python3"
  },
  "language_info": {
   "codemirror_mode": {
    "name": "ipython",
    "version": 3
   },
   "file_extension": ".py",
   "mimetype": "text/x-python",
   "name": "python",
   "nbconvert_exporter": "python",
   "pygments_lexer": "ipython3",
   "version": "3.9.12"
  },
  "orig_nbformat": 4,
  "vscode": {
   "interpreter": {
    "hash": "d4d1e4263499bec80672ea0156c357c1ee493ec2b1c70f0acce89fc37c4a6abe"
   }
  }
 },
 "nbformat": 4,
 "nbformat_minor": 2
}
