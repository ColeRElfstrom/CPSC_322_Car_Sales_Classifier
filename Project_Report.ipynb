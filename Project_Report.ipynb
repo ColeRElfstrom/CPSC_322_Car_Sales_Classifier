{
 "cells": [
  {
   "cell_type": "code",
   "execution_count": 1,
   "metadata": {},
   "outputs": [],
   "source": [
    "# some useful mysklearn package import statements and reloads\n",
    "import importlib\n",
    "\n",
    "import mysklearn.myutils\n",
    "importlib.reload(mysklearn.myutils)\n",
    "import myutils\n",
    "import mysklearn.mypytable\n",
    "importlib.reload(mysklearn.mypytable)\n",
    "from mysklearn.mypytable import MyPyTable \n",
    "\n",
    "import mysklearn.myclassifiers\n",
    "importlib.reload(mysklearn.myclassifiers)\n",
    "from mysklearn.myclassifiers import MyKNeighborsClassifier, MyDummyClassifier, MyNaiveBayesClassifier\n",
    "from myclassifiers import MyDecisionTreeClassifier\n",
    "\n",
    "import mysklearn.myevaluation\n",
    "importlib.reload(mysklearn.myevaluation)\n",
    "import mysklearn.myevaluation as myevaluation\n",
    "\n",
    "import matplotlib.pyplot as plt"
   ]
  },
  {
   "cell_type": "markdown",
   "metadata": {},
   "source": [
    "# Car Sales Classifier \n",
    "\n",
    " We are going to perform some eda and use multiple classifiers to detemermine the most likely sale price of a car based on a number of classifiers. Our train set has the following attributes:  \n",
    "\n",
    "| Attribute     | Type      | Notes                                         |\n",
    "| :---          |    :----: |:---                                           |\n",
    "| pricesold     | int       |Our Class label; will require discretization   |\n",
    "| make          | string    |                                               |\n",
    "| year          | int       |                                               |\n",
    "| title status  | string    |                                               |\n",
    "| mileage       | int       |                                               |\n",
    "| color         | string    |                                               |\n",
    "| VIN           | int       |                                               |\n",
    "| Lot           | int       |                                               |\n",
    "\n"
   ]
  },
  {
   "cell_type": "markdown",
   "metadata": {},
   "source": [
    "First we will import out dataset into a table "
   ]
  },
  {
   "cell_type": "code",
   "execution_count": 2,
   "metadata": {},
   "outputs": [],
   "source": [
    "auto_dataset = MyPyTable().load_from_file(\"used_car_sales.csv\")"
   ]
  },
  {
   "cell_type": "code",
   "execution_count": 19,
   "metadata": {},
   "outputs": [
    {
     "name": "stdout",
     "output_type": "stream",
     "text": [
      "12335.928231417063\n",
      "20.0\n",
      "241110.0\n",
      "[2136, 2772, 1930, 2216, 1811, 1861, 679, 189, 33, 26, 2]\n",
      "[ 0  1  2  3  4  5  6  7  8  9 10]\n"
     ]
    },
    {
     "data": {
      "image/png": "[encoded data removed]",
      "text/plain": [
       "<Figure size 432x288 with 1 Axes>"
      ]
     },
     "metadata": {
      "needs_background": "light"
     },
     "output_type": "display_data"
    }
   ],
   "source": [
    "importlib.reload(mysklearn.myutils)\n",
    "importlib.reload(myutils)\n",
    "\n",
    "auto_dataset = myutils.clean_data(auto_dataset)\n",
    "auto_dataset_explored = MyPyTable(column_names=[\"pricesold\",\"yearsold\",\"Make\",\"Model\",\"Year\",\"BodyType\",\"NumCylinders\",\"DriveType\"])\n",
    "auto_dataset_explored = mysklearn.myutils.create_MyPyTable_for_auto_set(auto_dataset)\n",
    "auto_dataset_explored.remove_rows_with_missing_values()\n",
    "prices = auto_dataset_explored.get_column(\"pricesold\")\n",
    "discritized_prices, ranges = myutils.discretize_sales_price(prices)\n",
    "myutils.plot_prices(discritized_prices, ranges)\n",
    "price_sold = auto_dataset.get_column(\"pricesold\")\n",
    "year_sold = auto_dataset.get_column(\"yearsold\")\n",
    "make = auto_dataset.get_column(\"Make\")\n",
    "year = auto_dataset.get_column(\"Year\")\n",
    "body_type = auto_dataset.get_column(\"BodyType\")\n",
    "num_cylinders = auto_dataset.get_column(\"NumCylinders\")\n",
    "drive_type = auto_dataset.get_column(\"DriveType\")\n"
   ]
  },
  {
   "cell_type": "code",
   "execution_count": 34,
   "metadata": {},
   "outputs": [],
   "source": [
    "X_train = mysklearn.myutils.create_X_train_for_auto_set_without_prices(auto_dataset_explored)\n",
    "folds = myevaluation.stratified_kfold_split(X_train, discritized_prices)\n",
    "actual_train_folds = []\n",
    "actual_test_folds = []\n",
    "for fold in folds:\n",
    "    temp_x_train = []\n",
    "    temp_x_test = []\n",
    "    temp_y_train = []\n",
    "    temp_y_test = []\n",
    "    place = 0\n",
    "    for item in fold:   \n",
    "        for i in item:\n",
    "            if place == 0:\n",
    "                temp_x_train.append([year_sold[i], make[i], year[i], body_type[i], num_cylinders[i], drive_type[i]])\n",
    "                temp_y_train.append(discritized_prices[i])\n",
    "                \n",
    "            else:\n",
    "                temp_x_test.append([year_sold[i], make[i], year[i], body_type[i], num_cylinders[i], drive_type[i]])\n",
    "                temp_y_test.append(discritized_prices[i])\n",
    "        place += 1\n",
    "    actual_train_folds.append((temp_x_train, temp_y_train))\n",
    "    actual_test_folds.append((temp_x_test, temp_y_test))\n",
    "count = 1"
   ]
  },
  {
   "cell_type": "markdown",
   "metadata": {},
   "source": [
    "### Fixing noise"
   ]
  },
  {
   "cell_type": "code",
   "execution_count": 50,
   "metadata": {},
   "outputs": [
    {
     "name": "stdout",
     "output_type": "stream",
     "text": [
      "['suv', 'pickup', 'coupe', 'sedan', 'Convertible', '', 'Limousine', 'Hatchback', 'van', 'Wagon', 'Hardtop Convertible', 'Converible', 'LL', '--', '4 door limo', 'WAGON', 'Hard top', '2 Door Convertible', '2 door covertable', 'Hearse', 'Convertible Coupe', 'Station Wagon', 1966.0, 'Superior Hearse', 'Other', 'Silver Spirit', 'Rally', 'SWB']\n"
     ]
    }
   ],
   "source": [
    "X_train = actual_test_folds[0][0]\n",
    "y_train = actual_train_folds[0][1]\n",
    "X_test = actual_test_folds[0][0]\n",
    "y_test = actual_test_folds[0][1]\n",
    "\n",
    "pickup = ['Pickup',\"Standard Cab Pickup\", 'Crew Cab Pickup','Extended Cab Pickup','Pickup (Truck)','Regular Cab Pickup','Pickup Truck','Truck',\n",
    "        'Cab & Chassis','truck','Pick Up','Quad Cab Extended Pickup', 'Crew Cab Chassis-Cab', 'Short Bed','Double Cab/Long Bed',\n",
    "        'Standard cab Short bed','Extended Crew Cab Pickup','DUMP','Access Cab','PICKUP','Short bed pickup','Pick up',\n",
    "        \"I think it's a Styleside, Long Bed\",'REGULAR CAB','4DR 4x4 Pickup Truck','step side short bed','pick up']\n",
    "for val in X_train:\n",
    "    if val[3] in pickup:\n",
    "        val[3] = \"pickup\"\n",
    "\n",
    "sedan = ['Sedan','4dr Car','4 Door','Four-Door Hardtop','4 DOOR SEDAN','Sport Sedan','Touring','4 Door White','SEDAN']\n",
    "for val in X_train:\n",
    "    if val[3] in sedan:\n",
    "        val[3] = \"sedan\"\n",
    "\n",
    "coupe = ['Coupe','Fastback','hardtop','2dr Car','2 Door Coupe','2 Dr','Hardtop 2 Door','Targa','Fastback Coupe','2-Seat Roadster','2d : 2 Door Hard TOP',\n",
    "    'Hardtop','Victoria Coupe','Tudor','2DR Ht','Hardtop Fastback','T-Top','2 Door Sport Coupe','Roadster', 'Coupe with Removable Top','2 door',\n",
    "    '2 door coupe deluxe','roadster', '2 door post','2-DOOR HARD TOP COUPE','2 Door','2 door Hardtop','Beetle','2 Door Hardtop''Hard top','MR2 Spyder conv.',]\n",
    "for val in X_train:\n",
    "    if val[3] in coupe:\n",
    "        val[3] = \"coupe\"\n",
    "\n",
    "SUV = ['SUV','Sport Utility','Minivan', 'Mini-van, Passenger','4D Sport Utility',\n",
    "    'CHASSIS', 'JEEP','Conv', 'Suv','Sport Utility AWD Navi','Utility Body','suburban','its a CJ !!']\n",
    "for val in X_train:\n",
    "    if val[3] in SUV:\n",
    "        val[3] = \"suv\"\n",
    "\n",
    "Van = ['Standard Passenger Van','CONVERSION VAN', 'Van','Extended Passenger Van', 'Van Camper',\n",
    "    'HighTop Conversion Van', 'High roof 144 walk through van', 'Minivan/Van', 'Full-size Cargo Van','CARGO', 'mid-bus',\n",
    "     'cargo van', 'Microbus','Bus', 'VAN','Cargo Van']\n",
    "for val in X_train:\n",
    "    if val[3] in Van:\n",
    "        val[3] = \"van\"\n",
    "\n",
    "other = ['Convertible', '', 'Limousine', 'Hatchback', 'Wagon', 'Hardtop Convertible', 'Converible', 'LL', '--',\n",
    "    '4 door limo', 'WAGON', 'Hard top', '2 Door Convertible', '2 door covertable', 'Hearse', 'Convertible Coupe',\n",
    "    'Station Wagon', 1966.0, 'Superior Hearse', 'Other', 'Silver Spirit', 'Rally', 'SWB']\n",
    "for val in X_train:\n",
    "    if val[3] in other:\n",
    "        val[3] = \"other\"\n",
    "\n",
    "all_values = []\n",
    "for val in X_train:\n",
    "    if val[3] not in all_values:\n",
    "        all_values.append(val[3])\n",
    "print(all_values)\n",
    "\n",
    "\n",
    "\n"
   ]
  },
  {
   "cell_type": "markdown",
   "metadata": {},
   "source": [
    "### Dummy Classifier"
   ]
  },
  {
   "cell_type": "code",
   "execution_count": 35,
   "metadata": {},
   "outputs": [
    {
     "name": "stdout",
     "output_type": "stream",
     "text": [
      "Accuracy:  0.444\n",
      "Error Rate:  0.556\n"
     ]
    }
   ],
   "source": [
    "dummy = MyDummyClassifier()\n",
    "dummy.fit(X_train, y_train)\n",
    "y_predicted = dummy.predict(actual_test_folds[0][0])\n",
    "print(\"Accuracy: \", myevaluation.accuracy_score(actual_test_folds[0][1], y_predicted))\n",
    "print(\"Error Rate: \", 1.0 - myevaluation.accuracy_score(actual_test_folds[0][1], y_predicted))"
   ]
  },
  {
   "cell_type": "markdown",
   "metadata": {},
   "source": [
    "### Bayes Classifier"
   ]
  },
  {
   "cell_type": "code",
   "execution_count": 37,
   "metadata": {},
   "outputs": [
    {
     "ename": "KeyError",
     "evalue": "'Left hand drive'",
     "output_type": "error",
     "traceback": [
      "\u001b[0;31m---------------------------------------------------------------------------\u001b[0m",
      "\u001b[0;31mKeyError\u001b[0m                                  Traceback (most recent call last)",
      "\u001b[1;32m/home/CPSC_322_Car_Sales_Classifier/Project_Report.ipynb Cell 10\u001b[0m in \u001b[0;36m<cell line: 3>\u001b[0;34m()\u001b[0m\n\u001b[1;32m      <a href='vscode-notebook-cell://attached-container%2B7b22636f6e7461696e65724e616d65223a222f616e61636f6e6461335f63707363333232227d/home/CPSC_322_Car_Sales_Classifier/Project_Report.ipynb#X12sdnNjb2RlLXJlbW90ZQ%3D%3D?line=0'>1</a>\u001b[0m bayes \u001b[39m=\u001b[39m MyNaiveBayesClassifier()\n\u001b[1;32m      <a href='vscode-notebook-cell://attached-container%2B7b22636f6e7461696e65724e616d65223a222f616e61636f6e6461335f63707363333232227d/home/CPSC_322_Car_Sales_Classifier/Project_Report.ipynb#X12sdnNjb2RlLXJlbW90ZQ%3D%3D?line=1'>2</a>\u001b[0m bayes\u001b[39m.\u001b[39mfit(actual_train_folds[\u001b[39m0\u001b[39m][\u001b[39m0\u001b[39m], actual_train_folds[\u001b[39m0\u001b[39m][\u001b[39m1\u001b[39m])\n\u001b[0;32m----> <a href='vscode-notebook-cell://attached-container%2B7b22636f6e7461696e65724e616d65223a222f616e61636f6e6461335f63707363333232227d/home/CPSC_322_Car_Sales_Classifier/Project_Report.ipynb#X12sdnNjb2RlLXJlbW90ZQ%3D%3D?line=2'>3</a>\u001b[0m y_predicted \u001b[39m=\u001b[39m bayes\u001b[39m.\u001b[39;49mpredict(actual_test_folds[actual_train_folds\u001b[39m.\u001b[39;49mindex(fold)][\u001b[39m0\u001b[39;49m])\n\u001b[1;32m      <a href='vscode-notebook-cell://attached-container%2B7b22636f6e7461696e65724e616d65223a222f616e61636f6e6461335f63707363333232227d/home/CPSC_322_Car_Sales_Classifier/Project_Report.ipynb#X12sdnNjb2RlLXJlbW90ZQ%3D%3D?line=3'>4</a>\u001b[0m \u001b[39mprint\u001b[39m(\u001b[39m\"\u001b[39m\u001b[39mAccuracy: \u001b[39m\u001b[39m\"\u001b[39m, myevaluation\u001b[39m.\u001b[39maccuracy_score(actual_test_folds[\u001b[39m0\u001b[39m][\u001b[39m1\u001b[39m], y_predicted))\n\u001b[1;32m      <a href='vscode-notebook-cell://attached-container%2B7b22636f6e7461696e65724e616d65223a222f616e61636f6e6461335f63707363333232227d/home/CPSC_322_Car_Sales_Classifier/Project_Report.ipynb#X12sdnNjb2RlLXJlbW90ZQ%3D%3D?line=4'>5</a>\u001b[0m \u001b[39mprint\u001b[39m(\u001b[39m\"\u001b[39m\u001b[39mError Rate: \u001b[39m\u001b[39m\"\u001b[39m, \u001b[39m1.0\u001b[39m \u001b[39m-\u001b[39m myevaluation\u001b[39m.\u001b[39maccuracy_score(actual_test_folds[\u001b[39m0\u001b[39m][\u001b[39m1\u001b[39m], y_predicted))\n",
      "File \u001b[0;32m/home/CPSC_322_Car_Sales_Classifier/mysklearn/myclassifiers.py:406\u001b[0m, in \u001b[0;36mMyNaiveBayesClassifier.predict\u001b[0;34m(self, X_test)\u001b[0m\n\u001b[1;32m    404\u001b[0m     calc_prob \u001b[39m=\u001b[39m \u001b[39mself\u001b[39m\u001b[39m.\u001b[39mpriors[val][\u001b[39m0\u001b[39m]\u001b[39m/\u001b[39m\u001b[39mself\u001b[39m\u001b[39m.\u001b[39mpriors[val][\u001b[39m1\u001b[39m]\n\u001b[1;32m    405\u001b[0m     \u001b[39mfor\u001b[39;00m i \u001b[39min\u001b[39;00m \u001b[39mrange\u001b[39m(\u001b[39m0\u001b[39m, \u001b[39mlen\u001b[39m(\u001b[39mself\u001b[39m\u001b[39m.\u001b[39mposteriors[val])):\n\u001b[0;32m--> 406\u001b[0m         calc_prob \u001b[39m*\u001b[39m\u001b[39m=\u001b[39m (\u001b[39mself\u001b[39;49m\u001b[39m.\u001b[39;49mposteriors[val][\u001b[39m\"\u001b[39;49m\u001b[39matt\u001b[39;49m\u001b[39m\"\u001b[39;49m \u001b[39m+\u001b[39;49m \u001b[39mstr\u001b[39;49m(i \u001b[39m+\u001b[39;49m \u001b[39m1\u001b[39;49m)][instance[i]][\u001b[39m0\u001b[39m]\u001b[39m/\u001b[39m\u001b[39mself\u001b[39m\u001b[39m.\u001b[39mposteriors[val][\u001b[39m\"\u001b[39m\u001b[39matt\u001b[39m\u001b[39m\"\u001b[39m \u001b[39m+\u001b[39m \u001b[39mstr\u001b[39m(i \u001b[39m+\u001b[39m \u001b[39m1\u001b[39m)][instance[i]][\u001b[39m1\u001b[39m])\n\u001b[1;32m    407\u001b[0m     calc_vals\u001b[39m.\u001b[39mappend(calc_prob)\n\u001b[1;32m    408\u001b[0m y_predicted\u001b[39m.\u001b[39mappend(\u001b[39mself\u001b[39m\u001b[39m.\u001b[39mclass_labels[calc_vals\u001b[39m.\u001b[39mindex(\u001b[39mmax\u001b[39m(calc_vals))])\n",
      "\u001b[0;31mKeyError\u001b[0m: 'Left hand drive'"
     ]
    }
   ],
   "source": [
    "bayes = MyNaiveBayesClassifier()\n",
    "bayes.fit(X_train, y_train)\n",
    "y_predicted = bayes.predict(actual_test_folds[actual_train_folds.index(fold)][0])\n",
    "print(\"Accuracy: \", myevaluation.accuracy_score(actual_test_folds[0][1], y_predicted))\n",
    "print(\"Error Rate: \", 1.0 - myevaluation.accuracy_score(actual_test_folds[0][1], y_predicted))"
   ]
  }
 ],
 "metadata": {
  "kernelspec": {
   "display_name": "Python 3.9.12 ('base')",
   "language": "python",
   "name": "python3"
  },
  "language_info": {
   "codemirror_mode": {
    "name": "ipython",
    "version": 3
   },
   "file_extension": ".py",
   "mimetype": "text/x-python",
   "name": "python",
   "nbconvert_exporter": "python",
   "pygments_lexer": "ipython3",
   "version": "3.9.12"
  },
  "orig_nbformat": 4,
  "vscode": {
   "interpreter": {
    "hash": "d4d1e4263499bec80672ea0156c357c1ee493ec2b1c70f0acce89fc37c4a6abe"
   }
  }
 },
 "nbformat": 4,
 "nbformat_minor": 2
}
