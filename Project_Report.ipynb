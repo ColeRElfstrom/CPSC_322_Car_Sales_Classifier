{
 "cells": [
  {
   "cell_type": "code",
   "execution_count": 1,
   "metadata": {},
   "outputs": [],
   "source": [
    "# some useful mysklearn package import statements and reloads\n",
    "import importlib\n",
    "\n",
    "import mysklearn.myutils\n",
    "importlib.reload(mysklearn.myutils)\n",
    "import myutils \n",
    "import mysklearn.mypytable\n",
    "importlib.reload(mysklearn.mypytable)\n",
    "from mysklearn.mypytable import MyPyTable \n",
    "\n",
    "import mysklearn.myclassifiers\n",
    "importlib.reload(mysklearn.myclassifiers)\n",
    "from mysklearn.myclassifiers import MyDummyClassifier, MyNaiveBayesClassifier\n",
    "from myclassifiers import MyRandomForestClassifier\n",
    "\n",
    "import mysklearn.myevaluation\n",
    "importlib.reload(mysklearn.myevaluation)\n",
    "import mysklearn.myevaluation as myevaluation\n",
    "\n",
    "import matplotlib.pyplot as plt"
   ]
  },
  {
   "cell_type": "markdown",
   "metadata": {},
   "source": [
    "# Car Sales Classifier \n",
    "\n",
    " We are going to perform some eda and use multiple classifiers to detemermine the most likely sale price of a car based on a number of classifiers. Our train set has the following attributes:  \n",
    "\n",
    "| Attribute     | Type      | Notes                                         |\n",
    "| :---          |    :----: |:---                                           |\n",
    "| pricesold     | int       |Our Class label; will require discretization   |\n",
    "| make          | string    |                                               |\n",
    "| year          | int       |                                               |\n",
    "| title status  | string    |                                               |\n",
    "| mileage       | int       |                                               |\n",
    "| color         | string    |                                               |\n",
    "| VIN           | int       |                                               |\n",
    "| Lot           | int       |                                               |\n",
    "\n"
   ]
  },
  {
   "cell_type": "markdown",
   "metadata": {},
   "source": [
    "First we will import out dataset into a table "
   ]
  },
  {
   "cell_type": "code",
   "execution_count": 2,
   "metadata": {},
   "outputs": [],
   "source": [
    "auto_dataset = MyPyTable().load_from_file(\"used_car_sales.csv\")"
   ]
  },
  {
   "cell_type": "code",
   "execution_count": 3,
   "metadata": {},
   "outputs": [
    {
     "data": {
      "image/png": "[encoded data removed]",
      "text/plain": [
       "<Figure size 432x288 with 1 Axes>"
      ]
     },
     "metadata": {
      "needs_background": "light"
     },
     "output_type": "display_data"
    }
   ],
   "source": [
    "auto_dataset = myutils.clean_data(auto_dataset)\n",
    "auto_dataset_explored = MyPyTable(column_names=[\"pricesold\",\"yearsold\",\"Make\",\"Model\",\"Year\",\"BodyType\",\"NumCylinders\",\"DriveType\"])\n",
    "auto_dataset_explored = mysklearn.myutils.create_MyPyTable_for_auto_set(auto_dataset)\n",
    "auto_dataset_explored.remove_rows_with_missing_values()\n",
    "prices = auto_dataset_explored.get_column(\"pricesold\")\n",
    "discritized_prices, ranges = myutils.discretize_sales_price(prices)\n",
    "myutils.plot_prices(discritized_prices, ranges)\n",
    "price_sold = auto_dataset.get_column(\"pricesold\")\n",
    "year_sold = auto_dataset.get_column(\"yearsold\")\n",
    "make = auto_dataset.get_column(\"Make\")\n",
    "year = auto_dataset.get_column(\"Year\")\n",
    "body_type = auto_dataset.get_column(\"BodyType\")\n",
    "num_cylinders = auto_dataset.get_column(\"NumCylinders\")\n",
    "drive_type = auto_dataset.get_column(\"DriveType\")"
   ]
  },
  {
   "cell_type": "code",
   "execution_count": 4,
   "metadata": {},
   "outputs": [],
   "source": [
    "X_train = mysklearn.myutils.create_X_train_for_auto_set_without_prices(auto_dataset_explored)\n",
    "folds = myevaluation.stratified_kfold_split(X_train, discritized_prices, random_state=0)\n",
    "actual_train_folds = []\n",
    "actual_test_folds = []\n",
    "for fold in folds:\n",
    "    temp_x_train = []\n",
    "    temp_x_test = []\n",
    "    temp_y_train = []\n",
    "    temp_y_test = []\n",
    "    place = 0\n",
    "    for item in fold:   \n",
    "        for i in item:\n",
    "            if place == 0:\n",
    "                temp_x_train.append([year_sold[i], make[i], year[i], body_type[i], num_cylinders[i], drive_type[i]])\n",
    "                temp_y_train.append(discritized_prices[i])\n",
    "                \n",
    "            else:\n",
    "                temp_x_test.append([year_sold[i], make[i], year[i], body_type[i], num_cylinders[i], drive_type[i]])\n",
    "                temp_y_test.append(discritized_prices[i])\n",
    "        place += 1\n",
    "    actual_train_folds.append((temp_x_train, temp_y_train))\n",
    "    actual_test_folds.append((temp_x_test, temp_y_test))\n",
    "count = 1\n",
    "\n",
    "header = [\"year_sold\", \"make\", \"year\", \"body_type\", \"cylinders\", \"drive_type\"]"
   ]
  },
  {
   "attachments": {},
   "cell_type": "markdown",
   "metadata": {},
   "source": [
    "### Fixing Noise"
   ]
  },
  {
   "cell_type": "code",
   "execution_count": 5,
   "metadata": {},
   "outputs": [
    {
     "name": "stdout",
     "output_type": "stream",
     "text": [
      "['2000s', '2010s', '1980s', '1960s', '1970s', '1990s', '1940s', '1920s', '1950s', '1930s', '2020s', '1910s', '1900s']\n"
     ]
    }
   ],
   "source": [
    "\n",
    "X_train = actual_test_folds[0][0]\n",
    "y_train = actual_train_folds[0][1]\n",
    "X_test = actual_test_folds[0][0]\n",
    "y_test = actual_test_folds[0][1]\n",
    "\n",
    "myutils.X_train_bodystyle_noise_reduction(X_train)\n",
    "myutils.X_train_bodystyle_noise_reduction(X_test)\n",
    "myutils.discretize_year(X_train)\n",
    "myutils.clean_cylinder_count(X_train)\n",
    "myutils.clean_cylinder_count(X_test)\n",
    "myutils.clean_drive_type(X_train)\n",
    "myutils.clean_drive_type(X_test)\n",
    "\n",
    "all_values = []\n",
    "for val in X_train:\n",
    "    if val[2] not in all_values:\n",
    "        all_values.append(val[2])\n",
    "print(all_values)\n",
    "\n"
   ]
  },
  {
   "attachments": {},
   "cell_type": "markdown",
   "metadata": {},
   "source": [
    "### Dummy Classifier"
   ]
  },
  {
   "cell_type": "code",
   "execution_count": 6,
   "metadata": {},
   "outputs": [
    {
     "name": "stdout",
     "output_type": "stream",
     "text": [
      "Accuracy:  0.20285609666788723\n",
      "Error Rate:  0.7971439033321128\n"
     ]
    }
   ],
   "source": [
    "dummy = MyDummyClassifier()\n",
    "dummy.fit(X_train, y_train)\n",
    "y_predicted = dummy.predict(actual_test_folds[0][0])\n",
    "print(\"Accuracy: \", myevaluation.accuracy_score(actual_test_folds[0][1], y_predicted))\n",
    "print(\"Error Rate: \", 1.0 - myevaluation.accuracy_score(actual_test_folds[0][1], y_predicted))\n",
    "   "
   ]
  },
  {
   "attachments": {},
   "cell_type": "markdown",
   "metadata": {},
   "source": [
    "### Bayes Classifier"
   ]
  },
  {
   "cell_type": "code",
   "execution_count": 7,
   "metadata": {},
   "outputs": [
    {
     "name": "stdout",
     "output_type": "stream",
     "text": [
      "Accuracy:  0.16257781032588794\n",
      "Error Rate:  0.8374221896741121\n"
     ]
    }
   ],
   "source": [
    "bayes = MyNaiveBayesClassifier()\n",
    "bayes.fit(X_train, y_train)\n",
    "y_predicted = bayes.predict(actual_test_folds[0][0])\n",
    "print(\"Accuracy: \", myevaluation.accuracy_score(actual_test_folds[0][1], y_predicted))\n",
    "print(\"Error Rate: \", 1.0 - myevaluation.accuracy_score(actual_test_folds[0][1], y_predicted))"
   ]
  },
  {
   "attachments": {},
   "cell_type": "markdown",
   "metadata": {},
   "source": [
    "### Random Forrest Classifier"
   ]
  },
  {
   "cell_type": "code",
   "execution_count": 8,
   "metadata": {},
   "outputs": [
    {
     "name": "stdout",
     "output_type": "stream",
     "text": [
      "['Audi', 'Hummer', 'Jeep', 'Chevrolet']\n",
      "[1971.0, 2014.0, 1982.0, 2002.0]\n",
      "[2018.0, 2019.0, 2020.0]\n",
      "['Ford', 'Fiat', 'Saab', 'Toyota']\n",
      "['Sedan', 'Wagon', 'Convertible', 'SUV']\n",
      "[2002.0, 2004.0, 1959.0, 1984.0]\n",
      "[2004.0, 1991.0, 2013.0, 2010.0]\n",
      "[8.0, 6.0, 10.0]\n",
      "['SUV', 'Standard Cab Pickup', 'Convertible']\n",
      "['Ram', 'Chevrolet', 'Mercedes-Benz', 'Ford']\n",
      "['Mercedes-Benz', 'Ford', 'Chevrolet', 'Nissan']\n",
      "['', 'Coupe', 'Standard Cab Pickup', 'Sedan']\n",
      "['Jeep', 'Chevrolet', 'Mercedes-Benz', 'Subaru']\n",
      "['Mercedes-Benz', 'Ford', 'Jeep', 'Cadillac']\n",
      "['Crew Cab Pickup', '', 'Hard Top', 'Hatchback']\n",
      "['Convertible', 'Crew Cab Pickup', 'Coupe', '']\n",
      "[1970.0, 1978.0, 2014.0, 2008.0]\n",
      "['Chevrolet', 'Ford', 'Toyota', 'Mazda']\n",
      "['', 'Hatchback', 'SUV', 'Convertible']\n",
      "[1991.0, 2016.0, 2003.0, 1985.0]\n",
      "['Extended Cab Pickup', 'Convertible', 'Standard Cab Pickup', 'Sedan']\n",
      "['Cab & Chassis', 'Roadster 2 door convertible/hardtop', 'Minivan', 'Pickup Truck']\n",
      "[2013.0, 2008.0, 2012.0, 1987.0]\n",
      "['Subaru', 'Pontiac', 'Mercedes-Benz', 'Land Rover']\n",
      "['', 'Convertible', 'Coupe', 'Sedan']\n",
      "['', 'Sedan', 'Convertible', 'Extended Cab Pickup']\n",
      "[2002.0, 1972.0, 2009.0, 2008.0]\n",
      "['', 'SUV', 'Convertible', '4dr Car']\n",
      "['4dr Car', 'Coupe', 'Truck', 'Sedan']\n",
      "[2006.0, 2016.0, 2009.0, 2015.0]\n",
      "[2006.0, 2010.0, 1996.0, 2019.0]\n",
      "[1962.0, 1982.0, 2002.0, 1990.0]\n",
      "[1965.0, 1978.0, 1968.0, 1969.0]\n",
      "['Toyota', 'Chevrolet', 'Ford', 'Lincoln']\n",
      "['Sedan', 'SUV', 'Hatchback']\n",
      "['GMC', 'Ford', 'Buick', 'Dodge']\n",
      "['Short bed', 'Coupe', 'Hardtop', '']\n",
      "['Jaguar', 'Honda', 'Chevrolet', 'Smart']\n",
      "[1978.0, 2000.0, 2004.0, 2012.0]\n",
      "[2003.0, 2002.0, 2015.0, 2001.0]\n",
      "['Porsche', 'Dodge', 'Chevrolet', 'Mini']\n",
      "['Hatchback', 'Sedan', 'Sport Utility', '']\n",
      "['Van Camper', 'Coupe', 'SUV']\n",
      "[2019.0, 2020.0]\n",
      "[4.0, 6.0, 8.0]\n",
      "['Volkswagen', 'BMW', 'Dodge']\n",
      "[1966.0, 2010.0, 1977.0, 1971.0]\n",
      "['Audi', 'Ford', 'Volkswagen', 'Scion']\n",
      "['SUV', 'Extended Cab Pickup', '', 'Coupe']\n",
      "[1964.0, 1970.0, 1987.0, 1989.0]\n",
      "['Pontiac', 'Ford', 'Studebaker', 'Chevrolet']\n",
      "['Chrysler', 'Ford', 'Jeep', 'Infiniti']\n",
      "['', 'Hatchback', 'Coupe', 'Convertible']\n",
      "[2001.0, 1987.0, 1966.0, 1964.0]\n",
      "[1987.0, 1966.0, 2008.0, 1995.0]\n",
      "['Coupe', '', 'Sedan', 'Standard Cab Pickup']\n",
      "[2006.0, 1972.0, 2007.0, 2014.0]\n",
      "['Land Rover', 'Chevrolet', 'Subaru', 'AMC']\n",
      "['Sedan', 'Pickup', '']\n",
      "['Porsche', 'Ford', 'Dodge', 'Pontiac']\n",
      "[2005.0, 1971.0, 1962.0, 2003.0]\n",
      "['Dodge', 'Cadillac', 'Toyota', 'Mercedes-Benz']\n",
      "['Wagon', 'Convertible', 'SUV', 'Sedan']\n",
      "[1979.0, 2008.0, 2007.0, 1967.0]\n",
      "['Sedan', 'Coupe', 'SUV']\n",
      "[2005.0, 2001.0, 2006.0, 1978.0]\n",
      "[8.0, 4.0, 0.0]\n",
      "['Chevrolet', 'Peugeot', 'BMW']\n",
      "['Datsun', 'Ford', 'Chevrolet', 'Cadillac']\n",
      "['Chevrolet', 'Toyota', 'Volkswagen', 'Cadillac']\n",
      "['Coupe', '', 'Convertible']\n",
      "[4.0, 0.0, 8.0, 10.0]\n",
      "[6.0, 8.0, 4.0, 0.0]\n",
      "[1975.0, 1965.0, 2017.0, 2011.0]\n",
      "[2000.0, 2017.0, 2006.0, 1974.0]\n",
      "[1969.0, 1979.0, 2014.0, 2011.0]\n",
      "['SUV', 'roadster', '', 'Coupe']\n",
      "[1969.0, 1994.0, 1980.0, 2018.0]\n",
      "['Convertible', 'Sedan', '']\n",
      "['Sport Utility', 'Coupe', 'Pickup Truck']\n",
      "[2001.0, 1987.0, 2013.0, 1974.0]\n",
      "['Honda', 'BMW', 'Land Rover', 'Ferrari']\n",
      "[1994.0, 1984.0, 1995.0, 2014.0]\n",
      "['SUV', 'Crew Cab Pickup', 'Sedan', '']\n",
      "[2011.0, 1992.0, 2003.0, 1989.0]\n",
      "['', 'Coupe', 'Fastback']\n",
      "[2007.0, 2016.0, 1979.0, 1972.0]\n",
      "[2006.0, 2002.0, 2008.0, 2016.0]\n",
      "['GMC', 'Toyota', 'Audi', 'Chevrolet']\n",
      "[2004.0, 2000.0, 2015.0, 2006.0]\n",
      "['Cadillac', 'Chevrolet', 'Nissan']\n",
      "[1990.0, 1972.0, 1957.0, 2005.0]\n",
      "['Jeep', 'Ford', 'Mazda']\n",
      "['Nissan', 'Chevrolet', 'Oldsmobile', 'Ford']\n",
      "['Ford', 'Chevrolet', 'Mercury', 'Ram']\n",
      "['Volkswagen', 'Ford', 'GMC', 'Volvo']\n",
      "['Plymouth', 'Chevrolet', 'Subaru']\n",
      "[2.0, 4.0, 0.0]\n",
      "[2006.0, 1988.0, 2005.0, 2009.0]\n",
      "['Sedan', 'Convertible', 'Coupe', 'Hearse']\n",
      "['Fastback', 'CHASSIS', 'Convertible Premium', 'Coupe']\n",
      "[2007.0, 1993.0, 2013.0, 1977.0]\n",
      "['Coupe', 'Access Cab', 'Convertible', 'Standard Cab Pickup']\n",
      "['Coupe', 'Hatchback', 'SUV']\n",
      "\n"
     ]
    },
    {
     "ename": "TypeError",
     "evalue": "'int' object is not subscriptable",
     "output_type": "error",
     "traceback": [
      "\u001b[0;31m---------------------------------------------------------------------------\u001b[0m",
      "\u001b[0;31mTypeError\u001b[0m                                 Traceback (most recent call last)",
      "\u001b[1;32m/home/CPSC_322_Car_Sales_Classifier/Project_Report.ipynb Cell 14\u001b[0m in \u001b[0;36m<cell line: 5>\u001b[0;34m()\u001b[0m\n\u001b[1;32m      <a href='vscode-notebook-cell://attached-container%2B7b22636f6e7461696e65724e616d65223a222f616e61636f6e6461335f63707363333232227d/home/CPSC_322_Car_Sales_Classifier/Project_Report.ipynb#X16sdnNjb2RlLXJlbW90ZQ%3D%3D?line=1'>2</a>\u001b[0m rf_clf\u001b[39m.\u001b[39mfit(actual_train_folds[\u001b[39m0\u001b[39m][\u001b[39m0\u001b[39m], \u001b[39m100\u001b[39m, \u001b[39m20\u001b[39m, \u001b[39m4\u001b[39m)\n\u001b[1;32m      <a href='vscode-notebook-cell://attached-container%2B7b22636f6e7461696e65724e616d65223a222f616e61636f6e6461335f63707363333232227d/home/CPSC_322_Car_Sales_Classifier/Project_Report.ipynb#X16sdnNjb2RlLXJlbW90ZQ%3D%3D?line=2'>3</a>\u001b[0m \u001b[39mprint\u001b[39m(\u001b[39m\"\u001b[39m\u001b[39m\"\u001b[39m)\n\u001b[0;32m----> <a href='vscode-notebook-cell://attached-container%2B7b22636f6e7461696e65724e616d65223a222f616e61636f6e6461335f63707363333232227d/home/CPSC_322_Car_Sales_Classifier/Project_Report.ipynb#X16sdnNjb2RlLXJlbW90ZQ%3D%3D?line=4'>5</a>\u001b[0m y_predicted \u001b[39m=\u001b[39m rf_clf\u001b[39m.\u001b[39;49mpredict(actual_test_folds[\u001b[39m0\u001b[39;49m][\u001b[39m1\u001b[39;49m], header)\n\u001b[1;32m      <a href='vscode-notebook-cell://attached-container%2B7b22636f6e7461696e65724e616d65223a222f616e61636f6e6461335f63707363333232227d/home/CPSC_322_Car_Sales_Classifier/Project_Report.ipynb#X16sdnNjb2RlLXJlbW90ZQ%3D%3D?line=5'>6</a>\u001b[0m \u001b[39mprint\u001b[39m(\u001b[39m\"\u001b[39m\u001b[39mAccuracy: \u001b[39m\u001b[39m\"\u001b[39m, myevaluation\u001b[39m.\u001b[39maccuracy_score(actual_test_folds[\u001b[39m0\u001b[39m][\u001b[39m1\u001b[39m], y_predicted))\n\u001b[1;32m      <a href='vscode-notebook-cell://attached-container%2B7b22636f6e7461696e65724e616d65223a222f616e61636f6e6461335f63707363333232227d/home/CPSC_322_Car_Sales_Classifier/Project_Report.ipynb#X16sdnNjb2RlLXJlbW90ZQ%3D%3D?line=6'>7</a>\u001b[0m \u001b[39mprint\u001b[39m(\u001b[39m\"\u001b[39m\u001b[39mError Rate: \u001b[39m\u001b[39m\"\u001b[39m, \u001b[39m1.0\u001b[39m \u001b[39m-\u001b[39m myevaluation\u001b[39m.\u001b[39maccuracy_score(actual_test_folds[\u001b[39m0\u001b[39m][\u001b[39m1\u001b[39m], y_predicted))\n",
      "File \u001b[0;32m/home/CPSC_322_Car_Sales_Classifier/myclassifiers.py:583\u001b[0m, in \u001b[0;36mMyRandomForestClassifier.predict\u001b[0;34m(self, X_test, header)\u001b[0m\n\u001b[1;32m    581\u001b[0m     predictions \u001b[39m=\u001b[39m []\n\u001b[1;32m    582\u001b[0m     \u001b[39mfor\u001b[39;00m tree \u001b[39min\u001b[39;00m \u001b[39mself\u001b[39m\u001b[39m.\u001b[39mtree_list:\n\u001b[0;32m--> 583\u001b[0m         predictions\u001b[39m.\u001b[39mappend(u\u001b[39m.\u001b[39;49mtdidt_predict(tree\u001b[39m.\u001b[39;49mtree, row, tree\u001b[39m.\u001b[39;49mheader))\n\u001b[1;32m    584\u001b[0m     y_pred\u001b[39m.\u001b[39mappend(\u001b[39mmax\u001b[39m(predictions, key\u001b[39m=\u001b[39mpredictions\u001b[39m.\u001b[39mcount))\n\u001b[1;32m    585\u001b[0m \u001b[39mreturn\u001b[39;00m y_pred\n",
      "File \u001b[0;32m/home/CPSC_322_Car_Sales_Classifier/mysklearn/myutils.py:153\u001b[0m, in \u001b[0;36mtdidt_predict\u001b[0;34m(tree, instance, header)\u001b[0m\n\u001b[1;32m    151\u001b[0m \u001b[39mfor\u001b[39;00m i \u001b[39min\u001b[39;00m \u001b[39mrange\u001b[39m(\u001b[39m2\u001b[39m, \u001b[39mlen\u001b[39m(tree)):\n\u001b[1;32m    152\u001b[0m     value_list \u001b[39m=\u001b[39m tree[i]\n\u001b[0;32m--> 153\u001b[0m     \u001b[39mif\u001b[39;00m value_list[\u001b[39m1\u001b[39m] \u001b[39m==\u001b[39m instance[att_index]:\n\u001b[1;32m    154\u001b[0m         \u001b[39m# we have a match, recurse on this values subtree\u001b[39;00m\n\u001b[1;32m    155\u001b[0m         \u001b[39mreturn\u001b[39;00m tdidt_predict(value_list[\u001b[39m2\u001b[39m], instance, header)\n",
      "\u001b[0;31mTypeError\u001b[0m: 'int' object is not subscriptable"
     ]
    }
   ],
   "source": [
    "rf_clf = MyRandomForestClassifier()\n",
    "rf_clf.fit(actual_train_folds[0][0], 100, 20, 4)\n",
    "print(\"\")\n",
    "\n",
    "y_predicted = rf_clf.predict(actual_test_folds[0][1], actual_test_folds[0][1])\n",
    "print(\"Accuracy: \", myevaluation.accuracy_score(actual_test_folds[0][1], y_predicted))\n",
    "print(\"Error Rate: \", 1.0 - myevaluation.accuracy_score(actual_test_folds[0][1], y_predicted))"
   ]
  }
 ],
 "metadata": {
  "interpreter": {
   "hash": "d4d1e4263499bec80672ea0156c357c1ee493ec2b1c70f0acce89fc37c4a6abe"
  },
  "kernelspec": {
   "display_name": "Python 3.9.12 ('base')",
   "language": "python",
   "name": "python3"
  },
  "language_info": {
   "codemirror_mode": {
    "name": "ipython",
    "version": 3
   },
   "file_extension": ".py",
   "mimetype": "text/x-python",
   "name": "python",
   "nbconvert_exporter": "python",
   "pygments_lexer": "ipython3",
   "version": "3.9.12"
  },
  "orig_nbformat": 4,
  "vscode": {
   "interpreter": {
    "hash": "d4d1e4263499bec80672ea0156c357c1ee493ec2b1c70f0acce89fc37c4a6abe"
   }
  }
 },
 "nbformat": 4,
 "nbformat_minor": 2
}
