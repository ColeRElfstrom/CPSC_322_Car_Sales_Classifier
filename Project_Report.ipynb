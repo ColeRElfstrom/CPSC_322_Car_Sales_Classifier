{
 "cells": [
  {
   "cell_type": "code",
   "execution_count": 1,
   "metadata": {},
   "outputs": [],
   "source": [
    "# some useful mysklearn package import statements and reloads\n",
    "import importlib\n",
    "\n",
    "import mysklearn.myutils\n",
    "importlib.reload(mysklearn.myutils)\n",
    "import myutils\n",
    "import mysklearn.mypytable\n",
    "importlib.reload(mysklearn.mypytable)\n",
    "from mysklearn.mypytable import MyPyTable \n",
    "\n",
    "import mysklearn.myclassifiers\n",
    "importlib.reload(mysklearn.myclassifiers)\n",
    "from mysklearn.myclassifiers import MyKNeighborsClassifier, MyDummyClassifier, MyNaiveBayesClassifier, MyDecisionTreeClassifier\n",
    "\n",
    "import mysklearn.myevaluation\n",
    "importlib.reload(mysklearn.myevaluation)\n",
    "import mysklearn.myevaluation as myevaluation\n",
    "\n",
    "import matplotlib.pyplot as plt"
   ]
  },
  {
   "cell_type": "markdown",
   "metadata": {},
   "source": [
    "# Car Sales Classifier \n",
    "\n",
    " We are going to perform some eda and use multiple classifiers to detemermine the most likely sale price of a car based on a number of classifiers. Our train set has the following attributes:  \n",
    "\n",
    "| Attribute     | Type      | Notes                                         |\n",
    "| :---          |    :----: |:---                                           |\n",
    "| pricesold     | int       |Our Class label; will require discretization   |\n",
    "| make          | string    |                                               |\n",
    "| year          | int       |                                               |\n",
    "| title status  | string    |                                               |\n",
    "| mileage       | int       |                                               |\n",
    "| color         | string    |                                               |\n",
    "| VIN           | int       |                                               |\n",
    "| Lot           | int       |                                               |\n",
    "\n"
   ]
  },
  {
   "cell_type": "markdown",
   "metadata": {},
   "source": [
    "First we will import out dataset into a table "
   ]
  },
  {
   "cell_type": "code",
   "execution_count": 2,
   "metadata": {},
   "outputs": [],
   "source": [
    "auto_dataset = MyPyTable().load_from_file(\"used_car_sales.csv\")"
   ]
  },
  {
   "cell_type": "code",
   "execution_count": 33,
   "metadata": {},
   "outputs": [
    {
     "name": "stdout",
     "output_type": "stream",
     "text": [
      "12025.567126902597\n",
      "10.0\n",
      "289990.0\n",
      "[3515, 4279, 3028, 3569, 2830, 2618, 962, 301, 72, 43, 4]\n",
      "[ 0  1  2  3  4  5  6  7  8  9 10]\n"
     ]
    },
    {
     "data": {
      "image/png": "[encoded data removed]",
      "text/plain": [
       "<Figure size 432x288 with 1 Axes>"
      ]
     },
     "metadata": {
      "needs_background": "light"
     },
     "output_type": "display_data"
    }
   ],
   "source": [
    "importlib.reload(mysklearn.myutils)\n",
    "importlib.reload(myutils)\n",
    "\n",
    "auto_dataset = myutils.clean_data(auto_dataset)\n",
    "prices = auto_dataset.get_column(\"pricesold\")\n",
    "discritized_prices, ranges = myutils.discretize_sales_price(prices)\n",
    "myutils.plot_prices(discritized_prices, ranges)"
   ]
  },
  {
   "cell_type": "markdown",
   "metadata": {},
   "source": []
  }
 ],
 "metadata": {
  "kernelspec": {
   "display_name": "Python 3.9.13 64-bit (microsoft store)",
   "language": "python",
   "name": "python3"
  },
  "language_info": {
   "codemirror_mode": {
    "name": "ipython",
    "version": 3
   },
   "file_extension": ".py",
   "mimetype": "text/x-python",
   "name": "python",
   "nbconvert_exporter": "python",
   "pygments_lexer": "ipython3",
   "version": "3.9.13"
  },
  "orig_nbformat": 4,
  "vscode": {
   "interpreter": {
    "hash": "295ad1dcf8b76aa401eff806011cf06439144b4131696202593a835f30a00bb8"
   }
  }
 },
 "nbformat": 4,
 "nbformat_minor": 2
}
