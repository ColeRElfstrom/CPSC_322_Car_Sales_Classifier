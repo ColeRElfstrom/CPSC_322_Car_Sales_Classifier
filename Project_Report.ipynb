{
 "cells": [
  {
   "cell_type": "code",
   "execution_count": 15,
   "metadata": {},
   "outputs": [],
   "source": [
    "# some useful mysklearn package import statements and reloads\n",
    "import importlib\n",
    "\n",
    "import mysklearn.myutils\n",
    "importlib.reload(mysklearn.myutils)\n",
    "import myutils\n",
    "import mysklearn.mypytable\n",
    "importlib.reload(mysklearn.mypytable)\n",
    "from mysklearn.mypytable import MyPyTable \n",
    "\n",
    "import mysklearn.myclassifiers\n",
    "importlib.reload(mysklearn.myclassifiers)\n",
    "from mysklearn.myclassifiers import MyKNeighborsClassifier, MyDummyClassifier, MyNaiveBayesClassifier, MyDecisionTreeClassifier\n",
    "\n",
    "import mysklearn.myevaluation\n",
    "importlib.reload(mysklearn.myevaluation)\n",
    "import mysklearn.myevaluation as myevaluation\n",
    "\n",
    "import matplotlib.pyplot as plt"
   ]
  },
  {
   "cell_type": "markdown",
   "metadata": {},
   "source": [
    "# Car Sales Classifier \n",
    "\n",
    " We are going to perform some eda and use multiple classifiers to detemermine the most likely sale price of a car based on a number of classifiers. Our train set has the following attributes:  \n",
    "\n",
    "| Attribute     | Type      | Notes                                         |\n",
    "| :---          |    :----: |:---                                           |\n",
    "| pricesold    | int       |Our Class label; will require discretization   |\n",
    "| make         | string    |                                               |\n",
    "| year          | int       |                                               |\n",
    "| title status  | string    |                                               |\n",
    "| mileage       | int       |                                               |\n",
    "| color         | string    |                                               |\n",
    "| VIN           | int       |                                               |\n",
    "| Lot           | int       |                                               |\n",
    "\n"
   ]
  },
  {
   "cell_type": "markdown",
   "metadata": {},
   "source": [
    "First we will import out dataset into a table "
   ]
  },
  {
   "cell_type": "code",
   "execution_count": null,
   "metadata": {},
   "outputs": [],
   "source": [
    "auto_dataset = MyPyTable().load_from_file(\"used_car_sales.csv\")"
   ]
  },
  {
   "cell_type": "code",
   "execution_count": 16,
   "metadata": {},
   "outputs": [
    {
     "ename": "TypeError",
     "evalue": "bar() missing 1 required positional argument: 'height'",
     "output_type": "error",
     "traceback": [
      "\u001b[0;31m---------------------------------------------------------------------------\u001b[0m",
      "\u001b[0;31mTypeError\u001b[0m                                 Traceback (most recent call last)",
      "\u001b[1;32m/home/CPSC_322_Car_Sales_Classifier/Project_Report.ipynb Cell 4'\u001b[0m in \u001b[0;36m<cell line: 5>\u001b[0;34m()\u001b[0m\n\u001b[1;32m      <a href='vscode-notebook-cell://attached-container%2B7b22636f6e7461696e65724e616d65223a222f616e61636f6e6461335f63707363333232227d/home/CPSC_322_Car_Sales_Classifier/Project_Report.ipynb#ch0000004vscode-remote?line=2'>3</a>\u001b[0m prices \u001b[39m=\u001b[39m auto_dataset\u001b[39m.\u001b[39mget_column(\u001b[39m\"\u001b[39m\u001b[39mpricesold\u001b[39m\u001b[39m\"\u001b[39m)\n\u001b[1;32m      <a href='vscode-notebook-cell://attached-container%2B7b22636f6e7461696e65724e616d65223a222f616e61636f6e6461335f63707363333232227d/home/CPSC_322_Car_Sales_Classifier/Project_Report.ipynb#ch0000004vscode-remote?line=3'>4</a>\u001b[0m \u001b[39m# myutils.discretize_sales_price(prices)\u001b[39;00m\n\u001b[0;32m----> <a href='vscode-notebook-cell://attached-container%2B7b22636f6e7461696e65724e616d65223a222f616e61636f6e6461335f63707363333232227d/home/CPSC_322_Car_Sales_Classifier/Project_Report.ipynb#ch0000004vscode-remote?line=4'>5</a>\u001b[0m plt\u001b[39m.\u001b[39;49mbar(prices)\n",
      "\u001b[0;31mTypeError\u001b[0m: bar() missing 1 required positional argument: 'height'"
     ]
    }
   ],
   "source": [
    "\n",
    "# auto_dataset = myutils.clean_data(auto_dataset)\n",
    "prices = auto_dataset.get_column(\"pricesold\")\n",
    "# myutils.discretize_sales_price(prices)\n",
    "plt.bar(prices)"
   ]
  },
  {
   "cell_type": "markdown",
   "metadata": {},
   "source": []
  }
 ],
 "metadata": {
  "interpreter": {
   "hash": "d4d1e4263499bec80672ea0156c357c1ee493ec2b1c70f0acce89fc37c4a6abe"
  },
  "kernelspec": {
   "display_name": "Python 3.9.12 ('base')",
   "language": "python",
   "name": "python3"
  },
  "language_info": {
   "codemirror_mode": {
    "name": "ipython",
    "version": 3
   },
   "file_extension": ".py",
   "mimetype": "text/x-python",
   "name": "python",
   "nbconvert_exporter": "python",
   "pygments_lexer": "ipython3",
   "version": "3.9.12"
  },
  "orig_nbformat": 4
 },
 "nbformat": 4,
 "nbformat_minor": 2
}
