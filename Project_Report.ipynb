{
 "cells": [
  {
   "cell_type": "markdown",
   "metadata": {},
   "source": [
    "# Car Sales Classifier \n",
    "##### Cam Chetcuti and Cole Elfstrom "
   ]
  },
  {
   "cell_type": "code",
   "execution_count": 1,
   "metadata": {},
   "outputs": [],
   "source": [
    "# some useful mysklearn package import statements and reloads\n",
    "import importlib\n",
    "\n",
    "import mysklearn.myutils\n",
    "importlib.reload(mysklearn.myutils)\n",
    "import myutils \n",
    "importlib.reload(myutils)\n",
    "import mysklearn.mypytable\n",
    "importlib.reload(mysklearn.mypytable)\n",
    "from mysklearn.mypytable import MyPyTable \n",
    "\n",
    "import mysklearn.myclassifiers\n",
    "importlib.reload(mysklearn.myclassifiers)\n",
    "from mysklearn.myclassifiers import MyDummyClassifier, MyNaiveBayesClassifier\n",
    "import myclassifiers\n",
    "\n",
    "import mysklearn.myevaluation\n",
    "importlib.reload(mysklearn.myevaluation)\n",
    "import mysklearn.myevaluation as myevaluation\n",
    "\n",
    "import matplotlib.pyplot as plt"
   ]
  },
  {
   "cell_type": "markdown",
   "metadata": {},
   "source": [
    "### Introduction:  \n",
    "\n",
    "* Why we chose this topic:\n",
    "    - Car prices have been inflated recently and were something we wanted to look into classifying\n",
    "    - Lots of data is avalaible on car sales as it generally involves the government or a business \n",
    "    - There are plenty of attributes we could classify on \n",
    "* Our Data Set:\n",
    "    - After our data cleaning there are about 13,000 instances\n",
    "    - Very noisy data\n",
    "\n",
    "| Attribute     | Type      | Notes                                         |\n",
    "| pricesold     | int       |Our Class label; will require discretization   |\n",
    "| make          | string    |                                               |\n",
    "| model         | string    |                                               |\n",
    "| yearsold      | int       |                                               |\n",
    "| year          | int       |                                               |\n",
    "| Trim          | string    |                                               |\n",
    "| mileage       | int       |                                               |\n",
    "| Engine        | string    |                                               |\n",
    "| Cylinders     | int       |                                               |\n",
    "| BodyType      | string    |                                               |\n",
    "| DriveType     | string    |                                               |\n",
    "\n",
    "\n",
    "\n",
    "     "
   ]
  },
  {
   "cell_type": "markdown",
   "metadata": {},
   "source": [
    "### Exploratory Data Analysis:  \n",
    "* Before we can gain some insight into our data set, we have to clean up the noise  \n",
    "\n"
   ]
  },
  {
   "cell_type": "code",
   "execution_count": 2,
   "metadata": {},
   "outputs": [],
   "source": [
    "auto_dataset = MyPyTable().load_from_file(\"used_car_sales.csv\")"
   ]
  },
  {
   "cell_type": "code",
   "execution_count": 3,
   "metadata": {},
   "outputs": [],
   "source": [
    "auto_dataset = myutils.clean_data(auto_dataset)\n",
    "auto_dataset_explored = MyPyTable(column_names=[\"pricesold\",\"yearsold\",\"Make\",\"Model\",\"Year\",\"BodyType\",\"NumCylinders\",\"DriveType\"])\n",
    "auto_dataset_explored = mysklearn.myutils.create_MyPyTable_for_auto_set(auto_dataset)\n",
    "auto_dataset_explored.remove_rows_with_missing_values()\n",
    "prices = auto_dataset_explored.get_column(\"pricesold\")\n",
    "discritized_prices, ranges = myutils.discretize_sales_price(prices)\n",
    "price_sold = auto_dataset.get_column(\"pricesold\")\n",
    "year_sold = auto_dataset.get_column(\"yearsold\")\n",
    "make = auto_dataset.get_column(\"Make\")\n",
    "year = auto_dataset.get_column(\"Year\")\n",
    "body_type = auto_dataset.get_column(\"BodyType\")\n",
    "num_cylinders = auto_dataset.get_column(\"NumCylinders\")\n",
    "drive_type = auto_dataset.get_column(\"DriveType\")"
   ]
  },
  {
   "cell_type": "code",
   "execution_count": 4,
   "metadata": {},
   "outputs": [],
   "source": [
    "X_train = mysklearn.myutils.create_X_train_for_auto_set_without_prices(auto_dataset_explored)\n",
    "folds = myevaluation.stratified_kfold_split(X_train, discritized_prices, random_state=0)\n",
    "actual_train_folds = []\n",
    "actual_test_folds = []\n",
    "for fold in folds:\n",
    "    temp_x_train = []\n",
    "    temp_x_test = []\n",
    "    temp_y_train = []\n",
    "    temp_y_test = []\n",
    "    place = 0\n",
    "    for item in fold:   \n",
    "        for i in item:\n",
    "            if place == 0:\n",
    "                temp_x_train.append([year_sold[i], make[i], year[i], body_type[i], num_cylinders[i], drive_type[i]])\n",
    "                temp_y_train.append(discritized_prices[i])\n",
    "                \n",
    "            else:\n",
    "                temp_x_test.append([year_sold[i], make[i], year[i], body_type[i], num_cylinders[i], drive_type[i]])\n",
    "                temp_y_test.append(discritized_prices[i])\n",
    "        place += 1\n",
    "    actual_train_folds.append((temp_x_train, temp_y_train))\n",
    "    actual_test_folds.append((temp_x_test, temp_y_test))\n",
    "count = 1\n",
    "\n",
    "header = [\"year_sold\", \"make\", \"year\", \"body_type\", \"cylinders\", \"drive_type\"]"
   ]
  },
  {
   "attachments": {},
   "cell_type": "markdown",
   "metadata": {},
   "source": [
    "### Fixing Noise"
   ]
  },
  {
   "cell_type": "code",
   "execution_count": 5,
   "metadata": {},
   "outputs": [],
   "source": [
    "\n",
    "X_train = actual_test_folds[0][0]\n",
    "y_train = actual_train_folds[0][1]\n",
    "X_test = actual_test_folds[0][0]\n",
    "y_test = actual_test_folds[0][1]\n",
    "\n",
    "myutils.X_train_bodystyle_noise_reduction(X_train)\n",
    "myutils.X_train_bodystyle_noise_reduction(X_test)\n",
    "myutils.discretize_year(X_train)\n",
    "myutils.clean_cylinder_count(X_train)\n",
    "myutils.clean_cylinder_count(X_test)\n",
    "myutils.clean_drive_type(X_train)\n",
    "myutils.clean_drive_type(X_test)\n",
    "\n",
    "all_values = []\n",
    "for val in X_train:\n",
    "    if val[2] not in all_values:\n",
    "        all_values.append(val[2])\n",
    "\n"
   ]
  },
  {
   "cell_type": "markdown",
   "metadata": {},
   "source": [
    "Now that our data is clean we can plot some of our attributes"
   ]
  },
  {
   "cell_type": "code",
   "execution_count": 6,
   "metadata": {},
   "outputs": [
    {
     "data": {
      "image/png": "[encoded data removed]",
      "text/plain": [
       "<Figure size 432x288 with 1 Axes>"
      ]
     },
     "metadata": {
      "needs_background": "light"
     },
     "output_type": "display_data"
    }
   ],
   "source": [
    "myutils.plot_prices(discritized_prices, ranges)"
   ]
  },
  {
   "cell_type": "markdown",
   "metadata": {},
   "source": [
    "From our undiscretized prices above, it is clear that a majority of cars are sold around the 2500-7500$ range. "
   ]
  },
  {
   "cell_type": "code",
   "execution_count": 7,
   "metadata": {},
   "outputs": [
    {
     "data": {
      "image/png": "[encoded data removed]",
      "text/plain": [
       "<Figure size 432x288 with 1 Axes>"
      ]
     },
     "metadata": {
      "needs_background": "light"
     },
     "output_type": "display_data"
    },
    {
     "data": {
      "image/png": "[encoded data removed]",
      "text/plain": [
       "<Figure size 432x288 with 1 Axes>"
      ]
     },
     "metadata": {
      "needs_background": "light"
     },
     "output_type": "display_data"
    },
    {
     "data": {
      "image/png": "[encoded data removed]",
      "text/plain": [
       "<Figure size 432x288 with 1 Axes>"
      ]
     },
     "metadata": {
      "needs_background": "light"
     },
     "output_type": "display_data"
    },
    {
     "data": {
      "image/png": "[encoded data removed]",
      "text/plain": [
       "<Figure size 432x288 with 1 Axes>"
      ]
     },
     "metadata": {
      "needs_background": "light"
     },
     "output_type": "display_data"
    }
   ],
   "source": [
    "myutils.plot_all_att(X_train)"
   ]
  },
  {
   "cell_type": "markdown",
   "metadata": {},
   "source": [
    "### Classification Results:  \n",
    "* Classifiers Used:\n",
    "    - Dummy Classifier\n",
    "    - Naive Bayes\n",
    "    - Random Forest\n",
    "* How we measured accuracy:\n",
    "    - using a basic accuracy and erorr score from the myevaluation class\n",
    "* Results:\n",
    "    - All Classifiers are about 20% accurate, which proves the difficulty of classifying using the attributes and data we selected \n",
    "* Our \"Best\" Classifier:\n",
    "    - Generally the random forest performs best on our data, and with more refined dataset and less generalized attibutes it should perform much better "
   ]
  },
  {
   "attachments": {},
   "cell_type": "markdown",
   "metadata": {},
   "source": [
    "### Dummy Classifier"
   ]
  },
  {
   "cell_type": "code",
   "execution_count": 8,
   "metadata": {},
   "outputs": [
    {
     "name": "stdout",
     "output_type": "stream",
     "text": [
      "Accuracy:  0.20285609666788723\n",
      "Error Rate:  0.7971439033321128\n"
     ]
    }
   ],
   "source": [
    "dummy = MyDummyClassifier()\n",
    "dummy.fit(X_train, y_train)\n",
    "y_predicted = dummy.predict(actual_test_folds[0][0])\n",
    "print(\"Accuracy: \", myevaluation.accuracy_score(actual_test_folds[0][1], y_predicted))\n",
    "print(\"Error Rate: \", 1.0 - myevaluation.accuracy_score(actual_test_folds[0][1], y_predicted))\n",
    "   "
   ]
  },
  {
   "attachments": {},
   "cell_type": "markdown",
   "metadata": {},
   "source": [
    "### Bayes Classifier"
   ]
  },
  {
   "cell_type": "code",
   "execution_count": 9,
   "metadata": {},
   "outputs": [
    {
     "name": "stdout",
     "output_type": "stream",
     "text": [
      "Accuracy:  0.16257781032588794\n",
      "Error Rate:  0.8374221896741121\n"
     ]
    }
   ],
   "source": [
    "bayes = MyNaiveBayesClassifier()\n",
    "bayes.fit(X_train, y_train)\n",
    "y_predicted = bayes.predict(actual_test_folds[0][0])\n",
    "print(\"Accuracy: \", myevaluation.accuracy_score(actual_test_folds[0][1], y_predicted))\n",
    "print(\"Error Rate: \", 1.0 - myevaluation.accuracy_score(actual_test_folds[0][1], y_predicted))"
   ]
  },
  {
   "attachments": {},
   "cell_type": "markdown",
   "metadata": {},
   "source": [
    "### Random Forrest Classifier"
   ]
  },
  {
   "cell_type": "code",
   "execution_count": 12,
   "metadata": {},
   "outputs": [],
   "source": [
    "importlib.reload(myclassifiers)\n",
    "rf_clf = myclassifiers.MyRandomForestClassifier()\n",
    "rf_clf.fit(X_train, y_train, X_test, y_test, 500, 20, 5)"
   ]
  },
  {
   "cell_type": "code",
   "execution_count": 13,
   "metadata": {},
   "outputs": [
    {
     "name": "stdout",
     "output_type": "stream",
     "text": [
      "Accuracy:  0.16257781032588794\n",
      "Error Rate:  0.8374221896741121\n"
     ]
    }
   ],
   "source": [
    "y_predicted = rf_clf.predict(X_test, y_test)\n",
    "print(\"Accuracy: \", myevaluation.accuracy_score(y_test, y_predicted))\n",
    "print(\"Error Rate: \", 1.0 - myevaluation.accuracy_score(y_test, y_predicted))"
   ]
  },
  {
   "cell_type": "markdown",
   "metadata": {},
   "source": [
    "### Conclusion:  \n",
    "* Challenges/Improvement:  \n",
    "    - Use more attributes or more descriptive/unique attributes \n",
    "    - Once that is done more fine tuning of N, M, F would be beneficial \n",
    "* Key Components of the code:\n",
    "    - Our dicretization of each column used is vital and unique \n",
    "* Contributions:\n",
    "    - Cam: Discretization and Decision Tree Classifier\n",
    "    - Cole: Random Forest, testing, and discretization\n",
    "\n",
    "* Our Dataset:\n",
    "    - https://www.kaggle.com/datasets/tsaustin/us-used-car-sales-data\n"
   ]
  },
  {
   "cell_type": "markdown",
   "metadata": {},
   "source": []
  }
 ],
 "metadata": {
  "interpreter": {
   "hash": "d4d1e4263499bec80672ea0156c357c1ee493ec2b1c70f0acce89fc37c4a6abe"
  },
  "kernelspec": {
   "display_name": "Python 3.9.12 ('base')",
   "language": "python",
   "name": "python3"
  },
  "language_info": {
   "codemirror_mode": {
    "name": "ipython",
    "version": 3
   },
   "file_extension": ".py",
   "mimetype": "text/x-python",
   "name": "python",
   "nbconvert_exporter": "python",
   "pygments_lexer": "ipython3",
   "version": "3.9.12"
  },
  "orig_nbformat": 4,
  "vscode": {
   "interpreter": {
    "hash": "d4d1e4263499bec80672ea0156c357c1ee493ec2b1c70f0acce89fc37c4a6abe"
   }
  }
 },
 "nbformat": 4,
 "nbformat_minor": 2
}
